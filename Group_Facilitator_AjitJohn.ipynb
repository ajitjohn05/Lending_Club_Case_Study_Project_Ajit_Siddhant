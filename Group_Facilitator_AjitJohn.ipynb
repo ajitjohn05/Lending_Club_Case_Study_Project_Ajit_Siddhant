{
 "cells": [
  {
   "cell_type": "code",
   "execution_count": 618,
   "id": "9b56559d",
   "metadata": {},
   "outputs": [],
   "source": [
    "## import libraries\n",
    "import numpy as np\n",
    "import pandas as pd\n",
    "import matplotlib.pyplot as plt\n",
    "import seaborn as sns\n",
    "import warnings\n",
    "warnings.filterwarnings('ignore')"
   ]
  },
  {
   "cell_type": "code",
   "execution_count": 619,
   "id": "3edf839b",
   "metadata": {},
   "outputs": [
    {
     "name": "stdout",
     "output_type": "stream",
     "text": [
      "(39717, 111)\n"
     ]
    },
    {
     "data": {
      "text/html": [
       "<div>\n",
       "<style scoped>\n",
       "    .dataframe tbody tr th:only-of-type {\n",
       "        vertical-align: middle;\n",
       "    }\n",
       "\n",
       "    .dataframe tbody tr th {\n",
       "        vertical-align: top;\n",
       "    }\n",
       "\n",
       "    .dataframe thead th {\n",
       "        text-align: right;\n",
       "    }\n",
       "</style>\n",
       "<table border=\"1\" class=\"dataframe\">\n",
       "  <thead>\n",
       "    <tr style=\"text-align: right;\">\n",
       "      <th></th>\n",
       "      <th>id</th>\n",
       "      <th>member_id</th>\n",
       "      <th>loan_amnt</th>\n",
       "      <th>funded_amnt</th>\n",
       "      <th>funded_amnt_inv</th>\n",
       "      <th>term</th>\n",
       "      <th>int_rate</th>\n",
       "      <th>installment</th>\n",
       "      <th>grade</th>\n",
       "      <th>sub_grade</th>\n",
       "      <th>...</th>\n",
       "      <th>num_tl_90g_dpd_24m</th>\n",
       "      <th>num_tl_op_past_12m</th>\n",
       "      <th>pct_tl_nvr_dlq</th>\n",
       "      <th>percent_bc_gt_75</th>\n",
       "      <th>pub_rec_bankruptcies</th>\n",
       "      <th>tax_liens</th>\n",
       "      <th>tot_hi_cred_lim</th>\n",
       "      <th>total_bal_ex_mort</th>\n",
       "      <th>total_bc_limit</th>\n",
       "      <th>total_il_high_credit_limit</th>\n",
       "    </tr>\n",
       "  </thead>\n",
       "  <tbody>\n",
       "    <tr>\n",
       "      <th>0</th>\n",
       "      <td>1077501</td>\n",
       "      <td>1296599</td>\n",
       "      <td>5000</td>\n",
       "      <td>5000</td>\n",
       "      <td>4975.0</td>\n",
       "      <td>36 months</td>\n",
       "      <td>10.65%</td>\n",
       "      <td>162.87</td>\n",
       "      <td>B</td>\n",
       "      <td>B2</td>\n",
       "      <td>...</td>\n",
       "      <td>NaN</td>\n",
       "      <td>NaN</td>\n",
       "      <td>NaN</td>\n",
       "      <td>NaN</td>\n",
       "      <td>0.0</td>\n",
       "      <td>0.0</td>\n",
       "      <td>NaN</td>\n",
       "      <td>NaN</td>\n",
       "      <td>NaN</td>\n",
       "      <td>NaN</td>\n",
       "    </tr>\n",
       "    <tr>\n",
       "      <th>1</th>\n",
       "      <td>1077430</td>\n",
       "      <td>1314167</td>\n",
       "      <td>2500</td>\n",
       "      <td>2500</td>\n",
       "      <td>2500.0</td>\n",
       "      <td>60 months</td>\n",
       "      <td>15.27%</td>\n",
       "      <td>59.83</td>\n",
       "      <td>C</td>\n",
       "      <td>C4</td>\n",
       "      <td>...</td>\n",
       "      <td>NaN</td>\n",
       "      <td>NaN</td>\n",
       "      <td>NaN</td>\n",
       "      <td>NaN</td>\n",
       "      <td>0.0</td>\n",
       "      <td>0.0</td>\n",
       "      <td>NaN</td>\n",
       "      <td>NaN</td>\n",
       "      <td>NaN</td>\n",
       "      <td>NaN</td>\n",
       "    </tr>\n",
       "    <tr>\n",
       "      <th>2</th>\n",
       "      <td>1077175</td>\n",
       "      <td>1313524</td>\n",
       "      <td>2400</td>\n",
       "      <td>2400</td>\n",
       "      <td>2400.0</td>\n",
       "      <td>36 months</td>\n",
       "      <td>15.96%</td>\n",
       "      <td>84.33</td>\n",
       "      <td>C</td>\n",
       "      <td>C5</td>\n",
       "      <td>...</td>\n",
       "      <td>NaN</td>\n",
       "      <td>NaN</td>\n",
       "      <td>NaN</td>\n",
       "      <td>NaN</td>\n",
       "      <td>0.0</td>\n",
       "      <td>0.0</td>\n",
       "      <td>NaN</td>\n",
       "      <td>NaN</td>\n",
       "      <td>NaN</td>\n",
       "      <td>NaN</td>\n",
       "    </tr>\n",
       "    <tr>\n",
       "      <th>3</th>\n",
       "      <td>1076863</td>\n",
       "      <td>1277178</td>\n",
       "      <td>10000</td>\n",
       "      <td>10000</td>\n",
       "      <td>10000.0</td>\n",
       "      <td>36 months</td>\n",
       "      <td>13.49%</td>\n",
       "      <td>339.31</td>\n",
       "      <td>C</td>\n",
       "      <td>C1</td>\n",
       "      <td>...</td>\n",
       "      <td>NaN</td>\n",
       "      <td>NaN</td>\n",
       "      <td>NaN</td>\n",
       "      <td>NaN</td>\n",
       "      <td>0.0</td>\n",
       "      <td>0.0</td>\n",
       "      <td>NaN</td>\n",
       "      <td>NaN</td>\n",
       "      <td>NaN</td>\n",
       "      <td>NaN</td>\n",
       "    </tr>\n",
       "    <tr>\n",
       "      <th>4</th>\n",
       "      <td>1075358</td>\n",
       "      <td>1311748</td>\n",
       "      <td>3000</td>\n",
       "      <td>3000</td>\n",
       "      <td>3000.0</td>\n",
       "      <td>60 months</td>\n",
       "      <td>12.69%</td>\n",
       "      <td>67.79</td>\n",
       "      <td>B</td>\n",
       "      <td>B5</td>\n",
       "      <td>...</td>\n",
       "      <td>NaN</td>\n",
       "      <td>NaN</td>\n",
       "      <td>NaN</td>\n",
       "      <td>NaN</td>\n",
       "      <td>0.0</td>\n",
       "      <td>0.0</td>\n",
       "      <td>NaN</td>\n",
       "      <td>NaN</td>\n",
       "      <td>NaN</td>\n",
       "      <td>NaN</td>\n",
       "    </tr>\n",
       "  </tbody>\n",
       "</table>\n",
       "<p>5 rows × 111 columns</p>\n",
       "</div>"
      ],
      "text/plain": [
       "        id  member_id  loan_amnt  funded_amnt  funded_amnt_inv        term  \\\n",
       "0  1077501    1296599       5000         5000           4975.0   36 months   \n",
       "1  1077430    1314167       2500         2500           2500.0   60 months   \n",
       "2  1077175    1313524       2400         2400           2400.0   36 months   \n",
       "3  1076863    1277178      10000        10000          10000.0   36 months   \n",
       "4  1075358    1311748       3000         3000           3000.0   60 months   \n",
       "\n",
       "  int_rate  installment grade sub_grade  ... num_tl_90g_dpd_24m  \\\n",
       "0   10.65%       162.87     B        B2  ...                NaN   \n",
       "1   15.27%        59.83     C        C4  ...                NaN   \n",
       "2   15.96%        84.33     C        C5  ...                NaN   \n",
       "3   13.49%       339.31     C        C1  ...                NaN   \n",
       "4   12.69%        67.79     B        B5  ...                NaN   \n",
       "\n",
       "  num_tl_op_past_12m pct_tl_nvr_dlq  percent_bc_gt_75 pub_rec_bankruptcies  \\\n",
       "0                NaN            NaN               NaN                  0.0   \n",
       "1                NaN            NaN               NaN                  0.0   \n",
       "2                NaN            NaN               NaN                  0.0   \n",
       "3                NaN            NaN               NaN                  0.0   \n",
       "4                NaN            NaN               NaN                  0.0   \n",
       "\n",
       "  tax_liens tot_hi_cred_lim total_bal_ex_mort total_bc_limit  \\\n",
       "0       0.0             NaN               NaN            NaN   \n",
       "1       0.0             NaN               NaN            NaN   \n",
       "2       0.0             NaN               NaN            NaN   \n",
       "3       0.0             NaN               NaN            NaN   \n",
       "4       0.0             NaN               NaN            NaN   \n",
       "\n",
       "  total_il_high_credit_limit  \n",
       "0                        NaN  \n",
       "1                        NaN  \n",
       "2                        NaN  \n",
       "3                        NaN  \n",
       "4                        NaN  \n",
       "\n",
       "[5 rows x 111 columns]"
      ]
     },
     "execution_count": 619,
     "metadata": {},
     "output_type": "execute_result"
    }
   ],
   "source": [
    "loan_data = pd.read_csv(\"loan.csv\")\n",
    "print(loan_data.shape)\n",
    "loan_data.head()"
   ]
  },
  {
   "cell_type": "code",
   "execution_count": 620,
   "id": "f8437f16",
   "metadata": {},
   "outputs": [],
   "source": [
    "# Drop those rows which has active loan account, as they won't help in deciding defaulter\n",
    "curr_idx = loan_data.loc[loan_data.loc[:, \"loan_status\"] == \"Current\"].index\n",
    "loan_data.drop(index=curr_idx, inplace=True)"
   ]
  },
  {
   "cell_type": "code",
   "execution_count": 621,
   "id": "288e30bf",
   "metadata": {},
   "outputs": [
    {
     "data": {
      "text/plain": [
       "(38577, 56)"
      ]
     },
     "execution_count": 621,
     "metadata": {},
     "output_type": "execute_result"
    }
   ],
   "source": [
    "# Remove columns with all null values\n",
    "loan_data.dropna(axis = 1, how = 'all', inplace = True)\n",
    "loan_data.shape"
   ]
  },
  {
   "cell_type": "code",
   "execution_count": 622,
   "id": "3d21805d",
   "metadata": {},
   "outputs": [
    {
     "name": "stdout",
     "output_type": "stream",
     "text": [
      "(38577, 45)\n"
     ]
    }
   ],
   "source": [
    "# Remove colums with single values\n",
    "loan_data.drop(columns=loan_data.columns[loan_data.nunique() <= 1], inplace=True)\n",
    "print(loan_data.shape)"
   ]
  },
  {
   "cell_type": "code",
   "execution_count": 623,
   "id": "6701423a",
   "metadata": {},
   "outputs": [
    {
     "data": {
      "text/plain": [
       "count    37544.000000\n",
       "mean         5.061048\n",
       "std          3.401750\n",
       "min          1.000000\n",
       "25%          2.000000\n",
       "50%          4.000000\n",
       "75%          9.000000\n",
       "max         10.000000\n",
       "Name: emp_length, dtype: float64"
      ]
     },
     "execution_count": 623,
     "metadata": {},
     "output_type": "execute_result"
    }
   ],
   "source": [
    "# Make bin for emp_length\n",
    "loan_data[\"emp_length\"] = loan_data[\"emp_length\"].str.replace(\"years\", \"\")\n",
    "loan_data[\"emp_length\"] = loan_data[\"emp_length\"].str.replace(\"year\", \"\")\n",
    "loan_data[\"emp_length\"] = loan_data[\"emp_length\"].str.replace(\"<\", \"\")\n",
    "loan_data[\"emp_length\"] = loan_data[\"emp_length\"].str.replace(\"+\", \"\")\n",
    "loan_data[\"emp_length\"] = pd.to_numeric(loan_data[\"emp_length\"])\n",
    "loan_data[\"emp_length\"].describe()"
   ]
  },
  {
   "cell_type": "code",
   "execution_count": 624,
   "id": "eae4f870",
   "metadata": {},
   "outputs": [],
   "source": [
    "# Create numeric data for int_rate & revol_util\n",
    "for val in (\"int_rate\", \"revol_util\"):\n",
    "    loan_data[val] = pd.to_numeric(loan_data[val].str.replace(\"%\", \"\"))"
   ]
  },
  {
   "cell_type": "code",
   "execution_count": 625,
   "id": "7515588f",
   "metadata": {},
   "outputs": [
    {
     "data": {
      "text/plain": [
       "0.0    16694\n",
       "1.0    12206\n",
       "2.0     9677\n",
       "Name: verified, dtype: int64"
      ]
     },
     "execution_count": 625,
     "metadata": {},
     "output_type": "execute_result"
    }
   ],
   "source": [
    "loan_data[\"verification_status\"].value_counts()\n",
    "# Mark verified 1 if verification_status is not \"Not Verified\"\n",
    "loan_data.loc[loan_data[\"verification_status\"] == \"Not Verified\", \"verified\"] = 0\n",
    "loan_data.loc[loan_data[\"verification_status\"] == \"Verified\", \"verified\"] = 1\n",
    "loan_data.loc[loan_data[\"verification_status\"] == \"Source Verified\", \"verified\"] = 2\n",
    "loan_data.drop(columns=[\"verification_status\"], inplace=True)\n",
    "loan_data[\"verified\"].value_counts()"
   ]
  },
  {
   "cell_type": "code",
   "execution_count": 626,
   "id": "10d5d6ac",
   "metadata": {},
   "outputs": [
    {
     "name": "stdout",
     "output_type": "stream",
     "text": [
      "1.0    29096\n",
      "0.0     9481\n",
      "Name: term_36_not60, dtype: int64\n"
     ]
    }
   ],
   "source": [
    "# Marking whether term is 36 or not.\n",
    "loan_data[\"term_in_months\"] = pd.to_numeric(loan_data[\"term\"].str.replace(\"months\", \"\"))\n",
    "loan_data.loc[loan_data[\"term_in_months\"] == 36, \"term_36_not60\"] = 1\n",
    "loan_data.loc[loan_data[\"term_in_months\"] == 60, \"term_36_not60\"] = 0\n",
    "loan_data.drop(columns=[\"term\", \"term_in_months\"], inplace=True)\n",
    "print(loan_data[\"term_36_not60\"].value_counts())"
   ]
  },
  {
   "cell_type": "code",
   "execution_count": 627,
   "id": "22c2e3d8",
   "metadata": {},
   "outputs": [
    {
     "data": {
      "text/plain": [
       "Index(['id', 'member_id', 'loan_amnt', 'funded_amnt', 'funded_amnt_inv',\n",
       "       'int_rate', 'installment', 'grade', 'sub_grade', 'emp_title',\n",
       "       'emp_length', 'home_ownership', 'annual_inc', 'issue_d', 'url', 'desc',\n",
       "       'purpose', 'title', 'zip_code', 'addr_state', 'dti', 'delinq_2yrs',\n",
       "       'earliest_cr_line', 'inq_last_6mths', 'mths_since_last_delinq',\n",
       "       'mths_since_last_record', 'open_acc', 'pub_rec', 'revol_bal',\n",
       "       'revol_util', 'total_acc', 'total_pymnt', 'total_pymnt_inv',\n",
       "       'total_rec_prncp', 'total_rec_int', 'total_rec_late_fee', 'recoveries',\n",
       "       'collection_recovery_fee', 'last_pymnt_d', 'last_pymnt_amnt',\n",
       "       'last_credit_pull_d', 'pub_rec_bankruptcies', 'verified',\n",
       "       'term_36_not60', 'loan_paid'],\n",
       "      dtype='object')"
      ]
     },
     "execution_count": 627,
     "metadata": {},
     "output_type": "execute_result"
    }
   ],
   "source": [
    "# Marking whether loan is paid or not\n",
    "loan_data.loc[loan_data[\"loan_status\"] == \"Charged Off\", \"loan_paid\"] = 0\n",
    "loan_data.loc[loan_data[\"loan_status\"] == \"Fully Paid\", \"loan_paid\"] = 1\n",
    "loan_data.drop(columns=[\"loan_status\"], inplace=True)\n",
    "loan_data.columns"
   ]
  },
  {
   "cell_type": "code",
   "execution_count": 628,
   "id": "bd872b5b",
   "metadata": {},
   "outputs": [
    {
     "data": {
      "text/plain": [
       "id                             0\n",
       "member_id                      0\n",
       "loan_amnt                      0\n",
       "funded_amnt                    0\n",
       "funded_amnt_inv                0\n",
       "int_rate                       0\n",
       "installment                    0\n",
       "grade                          0\n",
       "sub_grade                      0\n",
       "emp_title                   2386\n",
       "emp_length                  1033\n",
       "home_ownership                 0\n",
       "annual_inc                     0\n",
       "issue_d                        0\n",
       "url                            0\n",
       "desc                       12527\n",
       "purpose                        0\n",
       "title                         11\n",
       "zip_code                       0\n",
       "addr_state                     0\n",
       "dti                            0\n",
       "delinq_2yrs                    0\n",
       "earliest_cr_line               0\n",
       "inq_last_6mths                 0\n",
       "mths_since_last_delinq     24905\n",
       "mths_since_last_record     35837\n",
       "open_acc                       0\n",
       "pub_rec                        0\n",
       "revol_bal                      0\n",
       "revol_util                    50\n",
       "total_acc                      0\n",
       "total_pymnt                    0\n",
       "total_pymnt_inv                0\n",
       "total_rec_prncp                0\n",
       "total_rec_int                  0\n",
       "total_rec_late_fee             0\n",
       "recoveries                     0\n",
       "collection_recovery_fee        0\n",
       "last_pymnt_d                  71\n",
       "last_pymnt_amnt                0\n",
       "last_credit_pull_d             2\n",
       "pub_rec_bankruptcies         697\n",
       "verified                       0\n",
       "term_36_not60                  0\n",
       "loan_paid                      0\n",
       "dtype: int64"
      ]
     },
     "execution_count": 628,
     "metadata": {},
     "output_type": "execute_result"
    }
   ],
   "source": [
    "loan_data.isnull().sum()\n"
   ]
  },
  {
   "cell_type": "code",
   "execution_count": 629,
   "id": "f389c281",
   "metadata": {},
   "outputs": [
    {
     "name": "stdout",
     "output_type": "stream",
     "text": [
      "0.0    37472\n",
      "1.0      357\n",
      "2.0       42\n",
      "3.0        7\n",
      "4.0        2\n",
      "dtype: int64\n",
      "0    36507\n",
      "1     2013\n",
      "2       48\n",
      "3        7\n",
      "4        2\n",
      "Name: pub_rec, dtype: int64\n"
     ]
    }
   ],
   "source": [
    "# pub_rec & pub_rec_bankruptcies both are closely connected.\n",
    "print((loan_data[\"pub_rec\"] - loan_data[\"pub_rec_bankruptcies\"]).value_counts())\n",
    "# Most of the value present in pub_rec is 0.\n",
    "print(loan_data[\"pub_rec\"].value_counts())\n",
    "\n",
    "# Thus pub_rec & pub_rec_bankruptcies both can be dropped."
   ]
  },
  {
   "cell_type": "markdown",
   "id": "d3559269",
   "metadata": {},
   "source": [
    "## Variables having no association\n",
    "##### id , member_id, emp_title, url, desc, zip_code, addr_state\n",
    "\n",
    "## loan_paid        => IDENTIFIER\n",
    "\n",
    "## Imp Variables for applicant\n",
    "### Variables needs bucketting\n",
    "##### loan_amnt, int_rate, installment, annual_inc, credit_age (issue_d - earliest_cr_line), dti, open_acc, (total_acc - open_acc)\n",
    "### Variables already categorized\n",
    "##### term_36_not60, grade, emp_length(1033 null values), home_ownership, verified, purpose, inq_last_6mths\n",
    "### Imp Variables for applicant but can be dropped\n",
    "##### sub_grade (focussing on grade); title(purpose is sufficient); ; pub_rec, pub_rec_bankruptcies , ( pub_rec & pub_rec_bankruptcies both are closely connected and mostly set to 0);   mths_since_last_record (35837 null values)\n",
    "\n",
    "\n",
    "## Customer Behaviour Variable (Post Loan Approval), thus not present while applying loan. Thus they can not help us in predicting for credit approval or rejection.\n",
    "##### funded_amnt, funded_amnt_inv, revol_bal, revol_util, delinq_2yrs, mths_since_last_delinq, total_pymnt, total_pymnt_inv, total_rec_prncp, total_rec_int, total_rec_late_fee, recoveries, collection_recovery_fee, last_pymnt_d, last_pymnt_amnt, last_credit_pull_d "
   ]
  },
  {
   "cell_type": "code",
   "execution_count": 630,
   "id": "911687c7",
   "metadata": {},
   "outputs": [
    {
     "data": {
      "text/plain": [
       "(38577, 17)"
      ]
     },
     "execution_count": 630,
     "metadata": {},
     "output_type": "execute_result"
    }
   ],
   "source": [
    "# Dropping columns mentioned above\n",
    "loan = loan_data.drop(columns=[\"id\", \"member_id\", \"funded_amnt\", \"funded_amnt_inv\", \"emp_title\", \"url\", \"desc\",\n",
    "                               \"zip_code\", \"addr_state\", \"revol_bal\", \"revol_util\", \"delinq_2yrs\",\n",
    "                               \"mths_since_last_delinq\", \"mths_since_last_record\", \"pub_rec\", \"sub_grade\",\n",
    "                               \"title\",\"total_pymnt\", \"total_pymnt_inv\", \"total_rec_prncp\", \"total_rec_int\",\n",
    "                               \"total_rec_late_fee\", \"recoveries\", \"collection_recovery_fee\", \"pub_rec_bankruptcies\",\n",
    "                               \"last_pymnt_d\", \"last_pymnt_amnt\", \"last_credit_pull_d\",])\n",
    "loan.shape"
   ]
  },
  {
   "cell_type": "code",
   "execution_count": 632,
   "id": "524f03cd",
   "metadata": {},
   "outputs": [
    {
     "data": {
      "text/plain": [
       "Index(['loan_amnt', 'int_rate', 'installment', 'grade', 'emp_length',\n",
       "       'home_ownership', 'annual_inc', 'issue_d', 'purpose', 'dti',\n",
       "       'earliest_cr_line', 'inq_last_6mths', 'open_acc', 'verified',\n",
       "       'term_36_not60', 'loan_paid', 'closed_acc'],\n",
       "      dtype='object')"
      ]
     },
     "execution_count": 632,
     "metadata": {},
     "output_type": "execute_result"
    }
   ],
   "source": [
    "loan[\"closed_acc\"] = loan[\"total_acc\"] - loan[\"open_acc\"]\n",
    "loan.drop(columns=[\"total_acc\"], inplace=True)\n",
    "loan.columns"
   ]
  },
  {
   "cell_type": "code",
   "execution_count": 633,
   "id": "5730f6b0",
   "metadata": {},
   "outputs": [
    {
     "data": {
      "text/plain": [
       "Index(['loan_amnt', 'int_rate', 'installment', 'grade', 'emp_length',\n",
       "       'home_ownership', 'annual_inc', 'purpose', 'dti', 'inq_last_6mths',\n",
       "       'open_acc', 'verified', 'term_36_not60', 'loan_paid', 'closed_acc',\n",
       "       'credit_age'],\n",
       "      dtype='object')"
      ]
     },
     "execution_count": 633,
     "metadata": {},
     "output_type": "execute_result"
    }
   ],
   "source": [
    "for attr in (\"earliest_cr_line\", \"issue_d\"):\n",
    "    loan[f\"{attr}_year\"] = loan[attr].apply(lambda x: \n",
    "        (1900+int(x.split('-')[1]) if int(x.split('-')[1])>50 else (2000+int(x.split('-')[1]))))\n",
    "    loan[f\"{attr}_month\"] = loan[attr].apply(lambda x: x.split('-')[0])\n",
    "\n",
    "loan[\"credit_age\"] = pd.to_datetime(loan[\"issue_d_year\"].astype(str) + '/' + loan[\"issue_d_month\"] + '/' + '01').dt.to_period('M').astype(int) - \\\n",
    "    pd.to_datetime(loan[\"earliest_cr_line_year\"].astype(str) + '/' + loan[\"earliest_cr_line_month\"] + '/' + '01').dt.to_period('M').astype(int)\n",
    "loan.drop(columns=[\"earliest_cr_line\", \"earliest_cr_line_year\", \"earliest_cr_line_month\", \"issue_d\", \"issue_d_year\", \"issue_d_month\"], inplace=True)\n",
    "loan.columns"
   ]
  },
  {
   "cell_type": "code",
   "execution_count": 634,
   "id": "7b00d538",
   "metadata": {},
   "outputs": [],
   "source": [
    "# Functions to create different bins for a column\n",
    "def getCutInfo(title: str, jump: float) -> dict:\n",
    "    percentile = [ round(i, 2) for i in np.arange(0, 1, jump) ]\n",
    "    percentile.append(1.0)\n",
    "    binLabel = [ f'{title}_{str(i)}' for i in range(1, len(percentile))]\n",
    "    return {\"label\" : binLabel, \"percentileInfo\" : percentile}\n",
    "\n",
    "def bucketting(df: pd.DataFrame, title: str, jump: float, cutDict: dict) -> None:\n",
    "    if title not in df.columns:\n",
    "        print(f\"{title} not present in provided data-frame\")\n",
    "        return\n",
    "    cutInfo = getCutInfo(title, jump)\n",
    "    qcutOut = pd.qcut(df[title], q=cutInfo['percentileInfo'], labels=cutInfo['label'], retbins=True)\n",
    "    df[f'{title}_level'] = qcutOut[0]\n",
    "    cutDict[title] = qcutOut[1]\n",
    "    df.drop(columns=[title], inplace=True)"
   ]
  },
  {
   "cell_type": "code",
   "execution_count": 635,
   "id": "e027d6d9",
   "metadata": {},
   "outputs": [
    {
     "name": "stdout",
     "output_type": "stream",
     "text": [
      "<class 'pandas.core.frame.DataFrame'>\n",
      "Int64Index: 38577 entries, 0 to 39716\n",
      "Data columns (total 16 columns):\n",
      " #   Column             Non-Null Count  Dtype   \n",
      "---  ------             --------------  -----   \n",
      " 0   grade              38577 non-null  object  \n",
      " 1   emp_length         37544 non-null  float64 \n",
      " 2   home_ownership     38577 non-null  object  \n",
      " 3   purpose            38577 non-null  object  \n",
      " 4   inq_last_6mths     38577 non-null  int64   \n",
      " 5   verified           38577 non-null  float64 \n",
      " 6   term_36_not60      38577 non-null  float64 \n",
      " 7   loan_paid          38577 non-null  float64 \n",
      " 8   loan_amnt_level    38577 non-null  category\n",
      " 9   int_rate_level     38577 non-null  category\n",
      " 10  installment_level  38577 non-null  category\n",
      " 11  annual_inc_level   38577 non-null  category\n",
      " 12  dti_level          38577 non-null  category\n",
      " 13  credit_age_level   38577 non-null  category\n",
      " 14  closed_acc_level   38577 non-null  category\n",
      " 15  open_acc_level     38577 non-null  category\n",
      "dtypes: category(8), float64(4), int64(1), object(3)\n",
      "memory usage: 2.9+ MB\n"
     ]
    }
   ],
   "source": [
    "# Creating bins for loan_amnt, int_rate, installment, annual_inc\n",
    "cutRange = {}\n",
    "for title in (\"loan_amnt\", \"int_rate\", \"installment\", \"annual_inc\", \"dti\", \"credit_age\", \"closed_acc\", \"open_acc\"):\n",
    "    bucketting(loan, title, 0.1, cutRange)\n",
    "loan.info()"
   ]
  },
  {
   "cell_type": "markdown",
   "id": "8c9616b9",
   "metadata": {},
   "source": [
    "# Univariate & Segmented Univariate Analysis"
   ]
  },
  {
   "cell_type": "code",
   "execution_count": 636,
   "id": "aec068c0",
   "metadata": {},
   "outputs": [
    {
     "name": "stdout",
     "output_type": "stream",
     "text": [
      "Too less data for G under grade\n",
      "Too less data for NONE under home_ownership\n",
      "Too less data for OTHER under home_ownership\n",
      "Too less data for renewable_energy under purpose\n",
      "Too less data for 4 under inq_last_6mths\n",
      "Too less data for 5 under inq_last_6mths\n",
      "Too less data for 6 under inq_last_6mths\n",
      "Too less data for 7 under inq_last_6mths\n",
      "Too less data for 8 under inq_last_6mths\n"
     ]
    },
    {
     "data": {
      "text/plain": [
       "<Figure size 432x288 with 0 Axes>"
      ]
     },
     "metadata": {},
     "output_type": "display_data"
    },
    {
     "data": {
      "image/png": "[encoded data removed]",
      "text/plain": [
       "<Figure size 432x288 with 1 Axes>"
      ]
     },
     "metadata": {
      "needs_background": "light"
     },
     "output_type": "display_data"
    },
    {
     "data": {
      "text/plain": [
       "<Figure size 432x288 with 0 Axes>"
      ]
     },
     "metadata": {},
     "output_type": "display_data"
    },
    {
     "data": {
      "image/png": "[encoded data removed]",
      "text/plain": [
       "<Figure size 432x288 with 1 Axes>"
      ]
     },
     "metadata": {
      "needs_background": "light"
     },
     "output_type": "display_data"
    },
    {
     "data": {
      "text/plain": [
       "<Figure size 432x288 with 0 Axes>"
      ]
     },
     "metadata": {},
     "output_type": "display_data"
    },
    {
     "data": {
      "image/png": "[encoded data removed]",
      "text/plain": [
       "<Figure size 432x288 with 1 Axes>"
      ]
     },
     "metadata": {
      "needs_background": "light"
     },
     "output_type": "display_data"
    },
    {
     "data": {
      "text/plain": [
       "<Figure size 432x288 with 0 Axes>"
      ]
     },
     "metadata": {},
     "output_type": "display_data"
    },
    {
     "data": {
      "image/png": "[encoded data removed]",
      "text/plain": [
       "<Figure size 432x288 with 1 Axes>"
      ]
     },
     "metadata": {
      "needs_background": "light"
     },
     "output_type": "display_data"
    },
    {
     "data": {
      "text/plain": [
       "<Figure size 432x288 with 0 Axes>"
      ]
     },
     "metadata": {},
     "output_type": "display_data"
    },
    {
     "data": {
      "image/png": "[encoded data removed]",
      "text/plain": [
       "<Figure size 432x288 with 1 Axes>"
      ]
     },
     "metadata": {
      "needs_background": "light"
     },
     "output_type": "display_data"
    },
    {
     "data": {
      "text/plain": [
       "<Figure size 432x288 with 0 Axes>"
      ]
     },
     "metadata": {},
     "output_type": "display_data"
    },
    {
     "data": {
      "image/png": "[encoded data removed]",
      "text/plain": [
       "<Figure size 432x288 with 1 Axes>"
      ]
     },
     "metadata": {
      "needs_background": "light"
     },
     "output_type": "display_data"
    },
    {
     "data": {
      "text/plain": [
       "<Figure size 432x288 with 0 Axes>"
      ]
     },
     "metadata": {},
     "output_type": "display_data"
    },
    {
     "data": {
      "image/png": "[encoded data removed]",
      "text/plain": [
       "<Figure size 432x288 with 1 Axes>"
      ]
     },
     "metadata": {
      "needs_background": "light"
     },
     "output_type": "display_data"
    },
    {
     "data": {
      "text/plain": [
       "<Figure size 432x288 with 0 Axes>"
      ]
     },
     "metadata": {},
     "output_type": "display_data"
    },
    {
     "data": {
      "image/png": "[encoded data removed]",
      "text/plain": [
       "<Figure size 432x288 with 1 Axes>"
      ]
     },
     "metadata": {
      "needs_background": "light"
     },
     "output_type": "display_data"
    },
    {
     "data": {
      "text/plain": [
       "<Figure size 432x288 with 0 Axes>"
      ]
     },
     "metadata": {},
     "output_type": "display_data"
    },
    {
     "data": {
      "image/png": "[encoded data removed]",
      "text/plain": [
       "<Figure size 432x288 with 1 Axes>"
      ]
     },
     "metadata": {
      "needs_background": "light"
     },
     "output_type": "display_data"
    },
    {
     "data": {
      "text/plain": [
       "<Figure size 432x288 with 0 Axes>"
      ]
     },
     "metadata": {},
     "output_type": "display_data"
    },
    {
     "data": {
      "image/png": "[encoded data removed]",
      "text/plain": [
       "<Figure size 432x288 with 1 Axes>"
      ]
     },
     "metadata": {
      "needs_background": "light"
     },
     "output_type": "display_data"
    },
    {
     "data": {
      "text/plain": [
       "<Figure size 432x288 with 0 Axes>"
      ]
     },
     "metadata": {},
     "output_type": "display_data"
    },
    {
     "data": {
      "image/png": "[encoded data removed]",
      "text/plain": [
       "<Figure size 432x288 with 1 Axes>"
      ]
     },
     "metadata": {
      "needs_background": "light"
     },
     "output_type": "display_data"
    },
    {
     "data": {
      "text/plain": [
       "<Figure size 432x288 with 0 Axes>"
      ]
     },
     "metadata": {},
     "output_type": "display_data"
    },
    {
     "data": {
      "image/png": "[encoded data removed]",
      "text/plain": [
       "<Figure size 432x288 with 1 Axes>"
      ]
     },
     "metadata": {
      "needs_background": "light"
     },
     "output_type": "display_data"
    },
    {
     "data": {
      "text/plain": [
       "<Figure size 432x288 with 0 Axes>"
      ]
     },
     "metadata": {},
     "output_type": "display_data"
    },
    {
     "data": {
      "image/png": "[encoded data removed]",
      "text/plain": [
       "<Figure size 432x288 with 1 Axes>"
      ]
     },
     "metadata": {
      "needs_background": "light"
     },
     "output_type": "display_data"
    },
    {
     "data": {
      "text/plain": [
       "<Figure size 432x288 with 0 Axes>"
      ]
     },
     "metadata": {},
     "output_type": "display_data"
    },
    {
     "data": {
      "image/png": "[encoded data removed]",
      "text/plain": [
       "<Figure size 432x288 with 1 Axes>"
      ]
     },
     "metadata": {
      "needs_background": "light"
     },
     "output_type": "display_data"
    },
    {
     "data": {
      "text/plain": [
       "<Figure size 432x288 with 0 Axes>"
      ]
     },
     "metadata": {},
     "output_type": "display_data"
    },
    {
     "data": {
      "image/png": "[encoded data removed]",
      "text/plain": [
       "<Figure size 432x288 with 1 Axes>"
      ]
     },
     "metadata": {
      "needs_background": "light"
     },
     "output_type": "display_data"
    },
    {
     "data": {
      "text/plain": [
       "<Figure size 432x288 with 0 Axes>"
      ]
     },
     "metadata": {},
     "output_type": "display_data"
    },
    {
     "data": {
      "image/png": "[encoded data removed]",
      "text/plain": [
       "<Figure size 432x288 with 1 Axes>"
      ]
     },
     "metadata": {
      "needs_background": "light"
     },
     "output_type": "display_data"
    }
   ],
   "source": [
    "'''\n",
    " 0   grade              38577 non-null  object  \n",
    " 1   emp_length         37544 non-null  float64 \n",
    " 2   home_ownership     38577 non-null  object  \n",
    " 3   purpose            38577 non-null  object  \n",
    " 4   verified           38577 non-null  float64 \n",
    " 5   term_36_not60      38577 non-null  float64 \n",
    " 6   loan_paid          38577 non-null  float64 \n",
    " 7   loan_amnt_level    38577 non-null  category\n",
    " 8   int_rate_level     38577 non-null  category\n",
    " 9   installment_level  38577 non-null  category\n",
    " 10  annual_inc_level   38577 non-null  category\n",
    " 11  dti_level          38577 non-null  category\n",
    " 12  credit_age_level   38577 non-null  category\n",
    "'''\n",
    "\n",
    "for attr in loan.columns:\n",
    "    d = dict()\n",
    "    allVals = loan[attr].value_counts().index.values\n",
    "    if type(allVals[0]) == str and (allVals[0].split('_')[-1]).isdigit():\n",
    "        sortedAllVals = sorted(allVals, key=lambda d: int(d.split('_')[-1]))\n",
    "    else:\n",
    "        sortedAllVals = sorted(allVals)\n",
    "    for val in sortedAllVals:\n",
    "        if len(loan.loc[loan[attr] == val]) < len(loan)/(10*len(loan[attr].value_counts().index.values)):\n",
    "            print(f\"Too less data for {val} under {attr}\")\n",
    "        d[val] = len(loan.loc[(loan[attr] == val) & (loan[\"loan_paid\"] == 1)])/len(loan.loc[loan[attr] == val])\n",
    "    plt.figure()\n",
    "    (pd.DataFrame({attr:d.keys(), \"lpp\"  : d.values()})).plot.bar(x=attr, y=\"lpp\")"
   ]
  },
  {
   "cell_type": "code",
   "execution_count": 637,
   "id": "a998b38f",
   "metadata": {},
   "outputs": [
    {
     "data": {
      "text/plain": [
       "{'loan_amnt': array([  500.,  3090.,  5000.,  6000.,  7750.,  9600., 11200., 14000.,\n",
       "        16000., 21600., 35000.]),\n",
       " 'int_rate': array([ 5.42,  7.14,  7.9 ,  9.99, 10.99, 11.71, 12.84, 13.8 , 15.21,\n",
       "        16.82, 24.4 ]),\n",
       " 'installment': array([  15.69 ,   98.99 ,  149.922,  186.06 ,  228.71 ,  277.86 ,\n",
       "         327.96 ,  386.974,  480.33 ,  620.9  , 1305.19 ]),\n",
       " 'annual_inc': array([4.000000e+03, 3.000000e+04, 3.719616e+04, 4.450000e+04,\n",
       "        5.000400e+04, 5.886800e+04, 6.500400e+04, 7.500000e+04,\n",
       "        9.000000e+04, 1.150000e+05, 6.000000e+06]),\n",
       " 'dti': array([ 0.  ,  4.06,  6.91,  9.24, 11.35, 13.37, 15.31, 17.43, 19.71,\n",
       "        22.29, 29.99]),\n",
       " 'credit_age': array([-475.,   72.,   97.,  119.,  134.,  150.,  168.,  191.,  221.,\n",
       "         274.,  684.]),\n",
       " 'closed_acc': array([-6.,  3.,  5.,  7.,  9., 11., 14., 16., 20., 25., 75.]),\n",
       " 'open_acc': array([ 2.,  4.,  6.,  7.,  8.,  9., 10., 11., 13., 15., 44.])}"
      ]
     },
     "execution_count": 637,
     "metadata": {},
     "output_type": "execute_result"
    }
   ],
   "source": [
    "cutRange"
   ]
  },
  {
   "cell_type": "markdown",
   "id": "4bd07f86",
   "metadata": {},
   "source": [
    "# Bivariate Analysis"
   ]
  },
  {
   "cell_type": "code",
   "execution_count": 639,
   "id": "ae8eb073",
   "metadata": {},
   "outputs": [
    {
     "data": {
      "text/plain": [
       "grade                   0\n",
       "emp_length           1033\n",
       "home_ownership          0\n",
       "purpose                 0\n",
       "inq_last_6mths          0\n",
       "verified                0\n",
       "term_36_not60           0\n",
       "loan_paid               0\n",
       "loan_amnt_level         0\n",
       "int_rate_level          0\n",
       "installment_level       0\n",
       "annual_inc_level        0\n",
       "dti_level               0\n",
       "credit_age_level        0\n",
       "closed_acc_level        0\n",
       "open_acc_level          0\n",
       "dtype: int64"
      ]
     },
     "execution_count": 639,
     "metadata": {},
     "output_type": "execute_result"
    }
   ],
   "source": [
    "loan.isnull().sum()"
   ]
  },
  {
   "cell_type": "code",
   "execution_count": 650,
   "id": "c7adc4b0",
   "metadata": {},
   "outputs": [
    {
     "name": "stdout",
     "output_type": "stream",
     "text": [
      "count    32145.000000\n",
      "mean         5.037829\n",
      "std          3.393861\n",
      "min          1.000000\n",
      "25%          2.000000\n",
      "50%          4.000000\n",
      "75%          9.000000\n",
      "max         10.000000\n",
      "Name: emp_length, dtype: float64\n",
      "count    5399.000000\n",
      "mean        5.199296\n",
      "std         3.445429\n",
      "min         1.000000\n",
      "25%         2.000000\n",
      "50%         5.000000\n",
      "75%         9.000000\n",
      "max        10.000000\n",
      "Name: emp_length, dtype: float64\n"
     ]
    }
   ],
   "source": [
    "print((loan.loc[loan[\"loan_paid\"] == 1, \"emp_length\"]).describe())\n",
    "print((loan.loc[loan[\"loan_paid\"] == 0, \"emp_length\"]).describe())"
   ]
  },
  {
   "cell_type": "code",
   "execution_count": 651,
   "id": "ec2f164f",
   "metadata": {},
   "outputs": [],
   "source": [
    "loan.loc[(loan[\"loan_paid\"] == 1) & (loan[\"emp_length\"].isna()), \"emp_length\"] = 4\n",
    "loan.loc[(loan[\"loan_paid\"] == 0) & (loan[\"emp_length\"].isna()), \"emp_length\"] = 5"
   ]
  },
  {
   "cell_type": "code",
   "execution_count": 652,
   "id": "942282fd",
   "metadata": {},
   "outputs": [
    {
     "data": {
      "text/plain": [
       "grade                0\n",
       "emp_length           0\n",
       "home_ownership       0\n",
       "purpose              0\n",
       "inq_last_6mths       0\n",
       "verified             0\n",
       "term_36_not60        0\n",
       "loan_paid            0\n",
       "loan_amnt_level      0\n",
       "int_rate_level       0\n",
       "installment_level    0\n",
       "annual_inc_level     0\n",
       "dti_level            0\n",
       "credit_age_level     0\n",
       "closed_acc_level     0\n",
       "open_acc_level       0\n",
       "dtype: int64"
      ]
     },
     "execution_count": 652,
     "metadata": {},
     "output_type": "execute_result"
    }
   ],
   "source": [
    "loan.isnull().sum()"
   ]
  },
  {
   "cell_type": "code",
   "execution_count": null,
   "id": "8e4bb76f",
   "metadata": {},
   "outputs": [],
   "source": []
  }
 ],
 "metadata": {
  "kernelspec": {
   "display_name": "Python 3 (ipykernel)",
   "language": "python",
   "name": "python3"
  },
  "language_info": {
   "codemirror_mode": {
    "name": "ipython",
    "version": 3
   },
   "file_extension": ".py",
   "mimetype": "text/x-python",
   "name": "python",
   "nbconvert_exporter": "python",
   "pygments_lexer": "ipython3",
   "version": "3.9.7"
  }
 },
 "nbformat": 4,
 "nbformat_minor": 5
}
